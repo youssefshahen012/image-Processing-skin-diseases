{
  "nbformat": 4,
  "nbformat_minor": 0,
  "metadata": {
    "colab": {
      "provenance": []
    },
    "kernelspec": {
      "name": "python3",
      "display_name": "Python 3"
    },
    "language_info": {
      "name": "python"
    }
  },
  "cells": [
    {
      "cell_type": "code",
      "source": [
        "from PIL import Image\n",
        "import numpy as np\n",
        "from skimage.metrics import mean_squared_error, peak_signal_noise_ratio, structural_similarity\n",
        "import matplotlib.pyplot as plt\n",
        "\n",
        "#Assem Abdelrahman Abbas 20102225\n",
        "#Youssef Hesham shahen 20107033"
      ],
      "metadata": {
        "id": "UqpDsesDQT_2"
      },
      "execution_count": 1,
      "outputs": []
    },
    {
      "cell_type": "code",
      "execution_count": 3,
      "metadata": {
        "id": "MvPG0NzxQSPR"
      },
      "outputs": [],
      "source": [
        "image_path = 'alo.jpg'\n",
        "\n",
        "qualities = [10, 50, 75, 95]\n",
        "\n",
        "for quality in qualities:\n",
        "    img = Image.open(image_path)\n",
        "    output_filename = f\"output_image_{quality}.jpg\"\n",
        "    img.save(output_filename, \"JPEG\", quality=quality)"
      ]
    },
    {
      "cell_type": "code",
      "source": [
        "original_img = Image.open('alo.jpg')\n",
        "original_img = np.array(original_img)\n",
        "metrics = []\n",
        "output_filename = f\"output_image_{quality}.jpg\"\n",
        "compressed_img = Image.open(output_filename)\n",
        "compressed_img = np.array(compressed_img)\n",
        "\n",
        "mse = mean_squared_error(original_img, compressed_img)\n",
        "psnr = peak_signal_noise_ratio(original_img, compressed_img)\n",
        "ssim = structural_similarity(original_img, compressed_img, multichannel=True)\n",
        "metrics.append((quality, mse, psnr, ssim))\n"
      ],
      "metadata": {
        "colab": {
          "base_uri": "https://localhost:8080/"
        },
        "id": "KtwZSC-CQW_q",
        "outputId": "ceca38fc-a2b7-44b5-e1fd-484957603376"
      },
      "execution_count": 4,
      "outputs": [
        {
          "output_type": "stream",
          "name": "stderr",
          "text": [
            "<ipython-input-4-cd6c76e616fd>:10: FutureWarning: `multichannel` is a deprecated argument name for `structural_similarity`. It will be removed in version 1.0. Please use `channel_axis` instead.\n",
            "  ssim = structural_similarity(original_img, compressed_img, multichannel=True)\n"
          ]
        }
      ]
    },
    {
      "cell_type": "code",
      "source": [
        "qualities, mses, psnrs, ssims = zip(*metrics)\n",
        "plt.figure(figsize=(12, 4))\n",
        "\n",
        "plt.subplot(131)\n",
        "plt.bar(qualities, mses)\n",
        "plt.xlabel('Quality')\n",
        "plt.ylabel('MSE')\n",
        "\n",
        "plt.subplot(132)\n",
        "plt.bar(qualities, psnrs)\n",
        "plt.xlabel('Quality')\n",
        "plt.ylabel('PSNR')\n",
        "\n",
        "plt.subplot(133)\n",
        "plt.bar(qualities, ssims)\n",
        "plt.xlabel('Quality')\n",
        "plt.ylabel('SSIM')\n",
        "\n"
      ],
      "metadata": {
        "id": "tciN-8Q9SFNH"
      },
      "execution_count": null,
      "outputs": []
    },
    {
      "cell_type": "code",
      "source": [
        "#Upsampling:\n",
        "upsample_methods = [Image.NEAREST, Image.BOX, Image.BICUBIC]\n",
        "\n",
        "for method in upsample_methods:\n",
        "    img = Image.open(image_path)\n",
        "    upsampled_img = img.resize((img.width * 2, img.height * 2), resample=method)\n",
        "    output_filename = f\"upsampled_image_{method}.jpg\"\n",
        "    upsampled_img.save(output_filename)"
      ],
      "metadata": {
        "id": "IyjeWbgoSgqe"
      },
      "execution_count": null,
      "outputs": []
    }
  ]
}